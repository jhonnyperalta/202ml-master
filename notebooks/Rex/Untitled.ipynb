{
 "cells": [
  {
   "cell_type": "code",
   "execution_count": 1,
   "metadata": {},
   "outputs": [],
   "source": [
    "#R"
   ]
  },
  {
   "cell_type": "code",
   "execution_count": 2,
   "metadata": {},
   "outputs": [],
   "source": [
    "x <- c(1,3,2)"
   ]
  },
  {
   "cell_type": "code",
   "execution_count": 4,
   "metadata": {},
   "outputs": [
    {
     "data": {
      "text/html": [
       "<style>\n",
       ".list-inline {list-style: none; margin:0; padding: 0}\n",
       ".list-inline>li {display: inline-block}\n",
       ".list-inline>li:not(:last-child)::after {content: \"\\00b7\"; padding: 0 .5ex}\n",
       "</style>\n",
       "<ol class=list-inline><li>1</li><li>3</li><li>2</li></ol>\n"
      ],
      "text/latex": [
       "\\begin{enumerate*}\n",
       "\\item 1\n",
       "\\item 3\n",
       "\\item 2\n",
       "\\end{enumerate*}\n"
      ],
      "text/markdown": [
       "1. 1\n",
       "2. 3\n",
       "3. 2\n",
       "\n",
       "\n"
      ],
      "text/plain": [
       "[1] 1 3 2"
      ]
     },
     "metadata": {},
     "output_type": "display_data"
    }
   ],
   "source": [
    "x"
   ]
  },
  {
   "cell_type": "code",
   "execution_count": 5,
   "metadata": {},
   "outputs": [
    {
     "data": {
      "text/html": [
       "2"
      ],
      "text/latex": [
       "2"
      ],
      "text/markdown": [
       "2"
      ],
      "text/plain": [
       "[1] 2"
      ]
     },
     "metadata": {},
     "output_type": "display_data"
    }
   ],
   "source": [
    "mean(x)"
   ]
  },
  {
   "cell_type": "code",
   "execution_count": 6,
   "metadata": {},
   "outputs": [
    {
     "data": {
      "text/html": [
       "1"
      ],
      "text/latex": [
       "1"
      ],
      "text/markdown": [
       "1"
      ],
      "text/plain": [
       "[1] 1"
      ]
     },
     "metadata": {},
     "output_type": "display_data"
    }
   ],
   "source": [
    "sd(x)"
   ]
  },
  {
   "cell_type": "markdown",
   "metadata": {},
   "source": [
    " Se tienen dos grupos de personas A,B; en ambos grupos se mide el peso (kg) y la talla (cm)\n",
    "Grupo A: 67,69,68,70\n",
    "Grupo B: 171,154,148,151,177\n",
    "¿Cual de los grupos es más variable? NO se puede aplicar la desviación estándar.\n",
    "Se debe usar el Coeficiente de variabilidad!!"
   ]
  },
  {
   "cell_type": "code",
   "execution_count": 19,
   "metadata": {},
   "outputs": [],
   "source": [
    "a<-c(67,69,68,70)\n",
    "b<-c( 171,154, 148,151,177 )"
   ]
  },
  {
   "cell_type": "code",
   "execution_count": 20,
   "metadata": {},
   "outputs": [],
   "source": [
    "cva<-sd(a)*100/mean(a)\n",
    "cvb<-sd(b)*100/mean(b)"
   ]
  },
  {
   "cell_type": "code",
   "execution_count": 21,
   "metadata": {},
   "outputs": [
    {
     "data": {
      "text/html": [
       "1.88466342881139"
      ],
      "text/latex": [
       "1.88466342881139"
      ],
      "text/markdown": [
       "1.88466342881139"
      ],
      "text/plain": [
       "[1] 1.884663"
      ]
     },
     "metadata": {},
     "output_type": "display_data"
    },
    {
     "data": {
      "text/html": [
       "8.08358519010221"
      ],
      "text/latex": [
       "8.08358519010221"
      ],
      "text/markdown": [
       "8.08358519010221"
      ],
      "text/plain": [
       "[1] 8.083585"
      ]
     },
     "metadata": {},
     "output_type": "display_data"
    }
   ],
   "source": [
    "cva\n",
    "cvb"
   ]
  },
  {
   "cell_type": "code",
   "execution_count": 22,
   "metadata": {},
   "outputs": [
    {
     "data": {
      "text/html": [
       "1.29099444873581"
      ],
      "text/latex": [
       "1.29099444873581"
      ],
      "text/markdown": [
       "1.29099444873581"
      ],
      "text/plain": [
       "[1] 1.290994"
      ]
     },
     "metadata": {},
     "output_type": "display_data"
    },
    {
     "data": {
      "text/html": [
       "12.9499034745437"
      ],
      "text/latex": [
       "12.9499034745437"
      ],
      "text/markdown": [
       "12.9499034745437"
      ],
      "text/plain": [
       "[1] 12.9499"
      ]
     },
     "metadata": {},
     "output_type": "display_data"
    }
   ],
   "source": [
    "sd(a)\n",
    "sd(b)"
   ]
  },
  {
   "cell_type": "markdown",
   "metadata": {},
   "source": [
    "Conclusión: El grupo B al que se le midio la estatura, tiene mayor variabilidad; sin\n",
    "embargo ambos grupos tienen poca variabilidad"
   ]
  },
  {
   "cell_type": "code",
   "execution_count": 28,
   "metadata": {},
   "outputs": [
    {
     "data": {
      "text/html": [
       "60.7333333333333"
      ],
      "text/latex": [
       "60.7333333333333"
      ],
      "text/markdown": [
       "60.7333333333333"
      ],
      "text/plain": [
       "[1] 60.73333"
      ]
     },
     "metadata": {},
     "output_type": "display_data"
    },
    {
     "data": {
      "text/html": [
       "55.3846153846154"
      ],
      "text/latex": [
       "55.3846153846154"
      ],
      "text/markdown": [
       "55.3846153846154"
      ],
      "text/plain": [
       "[1] 55.38462"
      ]
     },
     "metadata": {},
     "output_type": "display_data"
    },
    {
     "data": {
      "text/html": [
       "55.3846153846154"
      ],
      "text/latex": [
       "55.3846153846154"
      ],
      "text/markdown": [
       "55.3846153846154"
      ],
      "text/plain": [
       "[1] 55.38462"
      ]
     },
     "metadata": {},
     "output_type": "display_data"
    }
   ],
   "source": [
    "#Media recortada\n",
    "x<-c(1,23,26,27,33,39,51,56,66,73,73,83,84,86,190)\n",
    "mean(x)\n",
    "mean(x,trim=0.1)\n",
    "x<-c(23,26,27,33,39,51,56,66,73,73,83,84,86)\n",
    "mean(x)"
   ]
  },
  {
   "cell_type": "code",
   "execution_count": 5,
   "metadata": {},
   "outputs": [],
   "source": [
    "library(readxl)\n",
    "datos <- read_excel(\"datos_ejemplo.xlsx\",4)\n",
    "#datos<-read.delim('clipboard')\n",
    "attach(datos) # sirve para descomponer los datos en columnas"
   ]
  },
  {
   "cell_type": "markdown",
   "metadata": {},
   "source": [
    "Calcular: media y el coeficiente de variabilidad de la distribución de las tallas\n",
    "Usando R para la determinación de la media y coeficiente de variabilidad:"
   ]
  },
  {
   "cell_type": "code",
   "execution_count": 7,
   "metadata": {},
   "outputs": [
    {
     "data": {
      "text/html": [
       "149.490322580645"
      ],
      "text/latex": [
       "149.490322580645"
      ],
      "text/markdown": [
       "149.490322580645"
      ],
      "text/plain": [
       "[1] 149.4903"
      ]
     },
     "metadata": {},
     "output_type": "display_data"
    },
    {
     "data": {
      "text/html": [
       "2.38806199923745"
      ],
      "text/latex": [
       "2.38806199923745"
      ],
      "text/markdown": [
       "2.38806199923745"
      ],
      "text/plain": [
       "[1] 2.388062"
      ]
     },
     "metadata": {},
     "output_type": "display_data"
    },
    {
     "data": {
      "text/html": [
       "1.59746929300334"
      ],
      "text/latex": [
       "1.59746929300334"
      ],
      "text/markdown": [
       "1.59746929300334"
      ],
      "text/plain": [
       "[1] 1.597469"
      ]
     },
     "metadata": {},
     "output_type": "display_data"
    }
   ],
   "source": [
    "mean(TALLA)\n",
    "sd(TALLA)\n",
    "cv<-sd(TALLA)*100/mean(TALLA)\n",
    "cv"
   ]
  },
  {
   "cell_type": "markdown",
   "metadata": {},
   "source": [
    "La estatura promedio de los niños encuestados es 149.49cm, y de acuerdo al cv, se puede\n",
    "decir que hay bastante homogeneidad en la distribución de los datos"
   ]
  },
  {
   "cell_type": "markdown",
   "metadata": {},
   "source": [
    "3. Determine e interprete el valor de la Moda.\n"
   ]
  },
  {
   "cell_type": "code",
   "execution_count": 8,
   "metadata": {},
   "outputs": [
    {
     "data": {
      "text/plain": [
       "TALLA\n",
       "143.7 143.8 144.7 144.8 145.1 145.7 145.8 145.9   146 146.8   147 147.1 147.2 \n",
       "    2     1     1     2     1     2     1     1     1     1     1     2     2 \n",
       "147.8 147.9   148 148.1 148.2 148.9   149 149.1 149.2 149.8 149.9   150 150.1 \n",
       "    1     4     1     1     3     2     3     3     4     1     5     5     4 \n",
       "150.2 150.3 150.8 150.9   151 151.1 151.8 151.9   152 152.1 152.2   153 153.1 \n",
       "    5     1     1     4     3     3     1     2     4     6     2     2     2 \n",
       "153.2 153.8 \n",
       "    1     1 "
      ]
     },
     "metadata": {},
     "output_type": "display_data"
    }
   ],
   "source": [
    "#Determinar e interpretar la moda\n",
    "table(TALLA) # contabiliza la frecuencia de ocurrencia de cada valor de TALLA"
   ]
  },
  {
   "cell_type": "code",
   "execution_count": 12,
   "metadata": {},
   "outputs": [
    {
     "data": {
      "text/plain": [
       "NIVEL_N\n",
       "Desnutrido     Exceso     Normal \n",
       "        67          2         24 "
      ]
     },
     "metadata": {},
     "output_type": "display_data"
    }
   ],
   "source": [
    "table(NIVEL_N) # contabiliza la frecuencia de ocurrencia de cada valor de NIVEL_NC"
   ]
  },
  {
   "cell_type": "markdown",
   "metadata": {},
   "source": [
    "Mo=152.1; por lo tanto la estatura mas frecuente en lo alumnos es de 152.1 cm"
   ]
  },
  {
   "cell_type": "code",
   "execution_count": 9,
   "metadata": {},
   "outputs": [],
   "source": [
    "tab.talla<-as.data.frame(table(TALLA))\n",
    "#tab.talla"
   ]
  },
  {
   "cell_type": "code",
   "execution_count": 18,
   "metadata": {},
   "outputs": [
    {
     "data": {
      "text/plain": [
       "   ESTUDIANTE      NIVEL_N               PESO          TALLA      \n",
       " Min.   : 23.0   Length:93          Min.   :45.0   Min.   :143.7  \n",
       " 1st Qu.:391.0   Class :character   1st Qu.:47.0   1st Qu.:148.0  \n",
       " Median :594.0   Mode  :character   Median :49.0   Median :150.0  \n",
       " Mean   :525.8                      Mean   :48.8   Mean   :149.5  \n",
       " 3rd Qu.:695.0                      3rd Qu.:50.1   3rd Qu.:151.1  \n",
       " Max.   :830.0                      Max.   :52.1   Max.   :153.8  \n",
       "  INGRESO_FAM    Nro_hermanos      GENERO              NSE           \n",
       " Min.   :1035   Min.   :0.000   Length:93          Length:93         \n",
       " 1st Qu.:2267   1st Qu.:0.000   Class :character   Class :character  \n",
       " Median :4115   Median :1.000   Mode  :character   Mode  :character  \n",
       " Mean   :4039   Mean   :1.398                                        \n",
       " 3rd Qu.:4798   3rd Qu.:3.000                                        \n",
       " Max.   :9416   Max.   :3.000                                        \n",
       " opinion causas desnutricion    NIVEL_NC     \n",
       " Length:93                   Min.   :0.0000  \n",
       " Class :character            1st Qu.:0.0000  \n",
       " Mode  :character            Median :0.0000  \n",
       "                             Mean   :0.3226  \n",
       "                             3rd Qu.:1.0000  \n",
       "                             Max.   :3.0000  "
      ]
     },
     "metadata": {},
     "output_type": "display_data"
    }
   ],
   "source": [
    "summary(datos) #para obtener algunas estadística descriptivas."
   ]
  },
  {
   "cell_type": "markdown",
   "metadata": {},
   "source": [
    "La mayoría de los niños esta desnutrido.\n",
    "La amplitud del ingreso familiar es de 9416-1035 =8381 es alto.\n",
    "La mayoría de los encuestados es de sexo femenino.\n",
    "Lo mas frecuente es que los niños pertenezcan al NSE C (Mo=NSE C )"
   ]
  },
  {
   "cell_type": "code",
   "execution_count": 19,
   "metadata": {},
   "outputs": [
    {
     "data": {
      "text/html": [
       "<style>\n",
       ".dl-inline {width: auto; margin:0; padding: 0}\n",
       ".dl-inline>dt, .dl-inline>dd {float: none; width: auto; display: inline-block}\n",
       ".dl-inline>dt::after {content: \":\\0020\"; padding-right: .5ex}\n",
       ".dl-inline>dt:not(:first-of-type) {padding-left: .5ex}\n",
       "</style><dl class=dl-inline><dt>0%</dt><dd>143.7</dd><dt>25%</dt><dd>148</dd><dt>50%</dt><dd>150</dd><dt>75%</dt><dd>151.1</dd><dt>100%</dt><dd>153.8</dd></dl>\n"
      ],
      "text/latex": [
       "\\begin{description*}\n",
       "\\item[0\\textbackslash{}\\%] 143.7\n",
       "\\item[25\\textbackslash{}\\%] 148\n",
       "\\item[50\\textbackslash{}\\%] 150\n",
       "\\item[75\\textbackslash{}\\%] 151.1\n",
       "\\item[100\\textbackslash{}\\%] 153.8\n",
       "\\end{description*}\n"
      ],
      "text/markdown": [
       "0%\n",
       ":   143.725%\n",
       ":   14850%\n",
       ":   15075%\n",
       ":   151.1100%\n",
       ":   153.8\n",
       "\n"
      ],
      "text/plain": [
       "   0%   25%   50%   75%  100% \n",
       "143.7 148.0 150.0 151.1 153.8 "
      ]
     },
     "metadata": {},
     "output_type": "display_data"
    }
   ],
   "source": [
    "#Determine e interprete los cuartiles de la talla.\n",
    "#Un cuartil Q es un valor que divide a un conjunto de datos en 4 partes iguales\n",
    "quantile(TALLA)"
   ]
  },
  {
   "cell_type": "markdown",
   "metadata": {},
   "source": [
    "Q1=148; el 25% de los niños mide a lo mas 148 cm\n",
    "Q2=Mediana=150; el 50% de los niños mide a lo mas 150 cm\n",
    "Q3=151.1 ; el 75% de los niños mide a lo mas 151.1 cm"
   ]
  },
  {
   "cell_type": "markdown",
   "metadata": {},
   "source": [
    "6. Determine la talla promedio por genero.\n"
   ]
  },
  {
   "cell_type": "code",
   "execution_count": 22,
   "metadata": {},
   "outputs": [
    {
     "data": {
      "text/html": [
       "<table>\n",
       "<caption>A data.frame: 2 × 2</caption>\n",
       "<thead>\n",
       "\t<tr><th scope=col>Group.1</th><th scope=col>x</th></tr>\n",
       "\t<tr><th scope=col>&lt;chr&gt;</th><th scope=col>&lt;dbl&gt;</th></tr>\n",
       "</thead>\n",
       "<tbody>\n",
       "\t<tr><td>f</td><td>149.8083</td></tr>\n",
       "\t<tr><td>m</td><td>148.9121</td></tr>\n",
       "</tbody>\n",
       "</table>\n"
      ],
      "text/latex": [
       "A data.frame: 2 × 2\n",
       "\\begin{tabular}{ll}\n",
       " Group.1 & x\\\\\n",
       " <chr> & <dbl>\\\\\n",
       "\\hline\n",
       "\t f & 149.8083\\\\\n",
       "\t m & 148.9121\\\\\n",
       "\\end{tabular}\n"
      ],
      "text/markdown": [
       "\n",
       "A data.frame: 2 × 2\n",
       "\n",
       "| Group.1 &lt;chr&gt; | x &lt;dbl&gt; |\n",
       "|---|---|\n",
       "| f | 149.8083 |\n",
       "| m | 148.9121 |\n",
       "\n"
      ],
      "text/plain": [
       "  Group.1 x       \n",
       "1 f       149.8083\n",
       "2 m       148.9121"
      ]
     },
     "metadata": {},
     "output_type": "display_data"
    }
   ],
   "source": [
    "aggregate(TALLA,by=list(GENERO),mean)\n"
   ]
  },
  {
   "cell_type": "markdown",
   "metadata": {},
   "source": [
    "Las mujeres miden mas que los hombres.\n"
   ]
  },
  {
   "cell_type": "markdown",
   "metadata": {},
   "source": [
    "7. Determina el promedio, mediana, desviación estándar, etc por genero.\n",
    "Para tener varios indicadores simultáneamente, se tiene que usar la libreria psych"
   ]
  },
  {
   "cell_type": "code",
   "execution_count": 33,
   "metadata": {},
   "outputs": [
    {
     "name": "stderr",
     "output_type": "stream",
     "text": [
      "\n",
      "Attaching package: ‘psych’\n",
      "\n",
      "\n",
      "The following object is masked from ‘package:psy’:\n",
      "\n",
      "    wkappa\n",
      "\n",
      "\n"
     ]
    }
   ],
   "source": [
    "library(\"psych\")"
   ]
  },
  {
   "cell_type": "code",
   "execution_count": 32,
   "metadata": {},
   "outputs": [
    {
     "name": "stderr",
     "output_type": "stream",
     "text": [
      "Installing package into ‘/usr/local/lib/R/site-library’\n",
      "(as ‘lib’ is unspecified)\n",
      "\n"
     ]
    }
   ],
   "source": [
    "install.packages(\"psych\") #,dependencies=TRUE"
   ]
  },
  {
   "cell_type": "code",
   "execution_count": 34,
   "metadata": {},
   "outputs": [
    {
     "data": {
      "text/plain": [
       "\n",
       " Descriptive statistics by group \n",
       "group: f\n",
       "   vars  n   mean   sd median trimmed  mad   min   max range  skew kurtosis\n",
       "X1    1 60 149.81 2.37    150  150.02 2.82 143.7 153.8  10.1 -0.69    -0.03\n",
       "     se\n",
       "X1 0.31\n",
       "------------------------------------------------------------ \n",
       "group: m\n",
       "   vars  n   mean   sd median trimmed  mad   min max range  skew kurtosis   se\n",
       "X1    1 33 148.91 2.34  149.2  149.03 2.52 143.7 153   9.3 -0.46    -0.71 0.41"
      ]
     },
     "metadata": {},
     "output_type": "display_data"
    }
   ],
   "source": [
    "describeBy(TALLA,GENERO)\n"
   ]
  },
  {
   "cell_type": "code",
   "execution_count": 35,
   "metadata": {},
   "outputs": [
    {
     "data": {
      "text/plain": [
       "\n",
       " Descriptive statistics by group \n",
       "group: Desnutrido\n",
       "   vars  n  mean   sd median trimmed  mad min  max range  skew kurtosis   se\n",
       "X1    1 67 48.94 2.13     49   49.02 2.82  45 52.1   7.1 -0.19    -0.95 0.26\n",
       "------------------------------------------------------------ \n",
       "group: Exceso\n",
       "   vars n mean   sd median trimmed  mad min max range skew kurtosis  se\n",
       "X1    1 2 47.5 3.54   47.5    47.5 3.71  45  50     5    0    -2.75 2.5\n",
       "------------------------------------------------------------ \n",
       "group: Normal\n",
       "   vars  n  mean  sd median trimmed  mad min  max range  skew kurtosis   se\n",
       "X1    1 24 48.52 2.6  49.05   48.52 4.37  45 52.1   7.1 -0.12    -1.58 0.53"
      ]
     },
     "metadata": {},
     "output_type": "display_data"
    }
   ],
   "source": [
    "describeBy(PESO,NIVEL_N)"
   ]
  },
  {
   "cell_type": "markdown",
   "metadata": {},
   "source": [
    "¿Que pasaría si se desea determinar el peso promedio solamente de Desnutridos y Exceso?\n"
   ]
  },
  {
   "cell_type": "markdown",
   "metadata": {},
   "source": [
    "Usar función filter!! Se necesita instalar el paquete dplyr\n"
   ]
  },
  {
   "cell_type": "code",
   "execution_count": 38,
   "metadata": {},
   "outputs": [
    {
     "name": "stderr",
     "output_type": "stream",
     "text": [
      "\n",
      "Attaching package: ‘dplyr’\n",
      "\n",
      "\n",
      "The following objects are masked from ‘package:stats’:\n",
      "\n",
      "    filter, lag\n",
      "\n",
      "\n",
      "The following objects are masked from ‘package:base’:\n",
      "\n",
      "    intersect, setdiff, setequal, union\n",
      "\n",
      "\n"
     ]
    }
   ],
   "source": [
    "library(\"dplyr\")"
   ]
  },
  {
   "cell_type": "code",
   "execution_count": 37,
   "metadata": {},
   "outputs": [
    {
     "name": "stderr",
     "output_type": "stream",
     "text": [
      "Installing package into ‘/usr/local/lib/R/site-library’\n",
      "(as ‘lib’ is unspecified)\n",
      "\n",
      "also installing the dependencies ‘purrr’, ‘generics’, ‘tidyselect’\n",
      "\n",
      "\n"
     ]
    }
   ],
   "source": [
    "install.packages(\"dplyr\") #,dependencies=TRUE"
   ]
  },
  {
   "cell_type": "code",
   "execution_count": 39,
   "metadata": {},
   "outputs": [
    {
     "data": {
      "text/html": [
       "<table>\n",
       "<caption>A data.frame: 2 × 2</caption>\n",
       "<thead>\n",
       "\t<tr><th scope=col>Group.1</th><th scope=col>x</th></tr>\n",
       "\t<tr><th scope=col>&lt;chr&gt;</th><th scope=col>&lt;dbl&gt;</th></tr>\n",
       "</thead>\n",
       "<tbody>\n",
       "\t<tr><td>Desnutrido</td><td>48.93582</td></tr>\n",
       "\t<tr><td>Exceso    </td><td>47.50000</td></tr>\n",
       "</tbody>\n",
       "</table>\n"
      ],
      "text/latex": [
       "A data.frame: 2 × 2\n",
       "\\begin{tabular}{ll}\n",
       " Group.1 & x\\\\\n",
       " <chr> & <dbl>\\\\\n",
       "\\hline\n",
       "\t Desnutrido & 48.93582\\\\\n",
       "\t Exceso     & 47.50000\\\\\n",
       "\\end{tabular}\n"
      ],
      "text/markdown": [
       "\n",
       "A data.frame: 2 × 2\n",
       "\n",
       "| Group.1 &lt;chr&gt; | x &lt;dbl&gt; |\n",
       "|---|---|\n",
       "| Desnutrido | 48.93582 |\n",
       "| Exceso     | 47.50000 |\n",
       "\n"
      ],
      "text/plain": [
       "  Group.1    x       \n",
       "1 Desnutrido 48.93582\n",
       "2 Exceso     47.50000"
      ]
     },
     "metadata": {},
     "output_type": "display_data"
    }
   ],
   "source": [
    "datap<-filter(datos,NIVEL_N%in% c(\"Desnutrido\",\"Exceso\"))\n",
    "aggregate(datap$PESO, by=list(datap$ NIVEL_N),mean)"
   ]
  },
  {
   "cell_type": "markdown",
   "metadata": {},
   "source": [
    "8. Determine el valor de la correlación de Pearson de la talla y el peso."
   ]
  },
  {
   "cell_type": "code",
   "execution_count": 40,
   "metadata": {},
   "outputs": [],
   "source": [
    "#Este estadístico, se encuentra entre -1 y 1; mide el grado de asociacion que hay entre dos\n",
    "#variables. Se usa cuando las variables X e Y con continuas.\n",
    "#   + relacion es directa\n",
    "#   - relacion es inversa\n",
    "#   0 no hay relacion"
   ]
  },
  {
   "cell_type": "code",
   "execution_count": 41,
   "metadata": {},
   "outputs": [
    {
     "data": {
      "text/html": [
       "0.905842398724057"
      ],
      "text/latex": [
       "0.905842398724057"
      ],
      "text/markdown": [
       "0.905842398724057"
      ],
      "text/plain": [
       "[1] 0.9058424"
      ]
     },
     "metadata": {},
     "output_type": "display_data"
    }
   ],
   "source": [
    "cor(TALLA,PESO,method=\"pearson\")"
   ]
  },
  {
   "cell_type": "markdown",
   "metadata": {},
   "source": [
    "La relación entre la talla y el peso es directa y fuerte."
   ]
  },
  {
   "cell_type": "markdown",
   "metadata": {},
   "source": [
    "9. Determine la correlación de Spearman entre Nivel nutricional y el número de hermanos.\n",
    "La correlación de Spearman, determina el grado de correlación entre variables no\n",
    "continuas. Al igual que la correlación de Pearson, su valor esta entre -1 y 1."
   ]
  },
  {
   "cell_type": "code",
   "execution_count": 43,
   "metadata": {},
   "outputs": [
    {
     "data": {
      "text/html": [
       "-0.249637288618965"
      ],
      "text/latex": [
       "-0.249637288618965"
      ],
      "text/markdown": [
       "-0.249637288618965"
      ],
      "text/plain": [
       "[1] -0.2496373"
      ]
     },
     "metadata": {},
     "output_type": "display_data"
    }
   ],
   "source": [
    "cor(NIVEL_NC,Nro_hermanos,method=\"spearman\")"
   ]
  },
  {
   "cell_type": "markdown",
   "metadata": {},
   "source": [
    "La relación entre las variables es inversa pero débil.\n"
   ]
  },
  {
   "cell_type": "code",
   "execution_count": 44,
   "metadata": {},
   "outputs": [
    {
     "name": "stderr",
     "output_type": "stream",
     "text": [
      "Installing package into ‘/usr/local/lib/R/site-library’\n",
      "(as ‘lib’ is unspecified)\n",
      "\n"
     ]
    }
   ],
   "source": [
    "install.packages(\"ggplot2\") #,dependencies=TRUE"
   ]
  },
  {
   "cell_type": "code",
   "execution_count": 45,
   "metadata": {},
   "outputs": [
    {
     "name": "stderr",
     "output_type": "stream",
     "text": [
      "\n",
      "Attaching package: ‘ggplot2’\n",
      "\n",
      "\n",
      "The following objects are masked from ‘package:psych’:\n",
      "\n",
      "    %+%, alpha\n",
      "\n",
      "\n"
     ]
    }
   ],
   "source": [
    "library(\"ggplot2\")"
   ]
  },
  {
   "cell_type": "markdown",
   "metadata": {},
   "source": [
    "13. Realice un gráfico de barras del número de personas según Nivel Nutricional. (Los gráficos\n",
    "de barras solamente se hacen con variables cualitativas)"
   ]
  },
  {
   "cell_type": "code",
   "execution_count": 50,
   "metadata": {},
   "outputs": [
    {
     "data": {
      "image/png": "[encoded data removed]",
      "text/plain": [
       "plot without title"
      ]
     },
     "metadata": {
      "image/png": {
       "height": 420,
       "width": 420
      }
     },
     "output_type": "display_data"
    }
   ],
   "source": [
    "ggplot(datos,aes(x=NIVEL_N))+geom_bar()+xlab(\"Nivel nutricional\")+\n",
    "ylab(\"numero de niños\")+ggtitle(\"Nivel nutricional de los Niños\")"
   ]
  },
  {
   "cell_type": "code",
   "execution_count": null,
   "metadata": {},
   "outputs": [],
   "source": []
  },
  {
   "cell_type": "code",
   "execution_count": null,
   "metadata": {},
   "outputs": [],
   "source": []
  }
 ],
 "metadata": {
  "kernelspec": {
   "display_name": "R",
   "language": "R",
   "name": "ir"
  },
  "language_info": {
   "codemirror_mode": "r",
   "file_extension": ".r",
   "mimetype": "text/x-r-source",
   "name": "R",
   "pygments_lexer": "r",
   "version": "3.5.2"
  }
 },
 "nbformat": 4,
 "nbformat_minor": 4
}
